{
 "cells": [
  {
   "cell_type": "code",
   "execution_count": 1,
   "metadata": {},
   "outputs": [],
   "source": [
    "import pandas\n",
    "import numpy as np\n",
    "from sklearn.ensemble import RandomForestClassifier\n",
    "from sklearn.model_selection import train_test_split\n",
    "from sklearn.metrics import accuracy_score\n",
    "from sklearn.metrics import f1_score\n",
    "import matplotlib.pyplot as plt\n",
    "from sklearn.model_selection import cross_val_score\n",
    "import time"
   ]
  },
  {
   "cell_type": "code",
   "execution_count": 2,
   "metadata": {},
   "outputs": [],
   "source": [
    "train_cfs = pandas.read_csv('train_cfs.csv', sep=',', encoding='iso8859_15')\n",
    "train_ig = pandas.read_csv('train_ig.csv', sep=',', encoding='iso8859_15')\n",
    "train_lasso = pandas.read_csv('train_lasso.csv', sep=',', encoding='iso8859_15')\n",
    "train_sample = pandas.read_csv('train_sample.csv', sep=',', encoding='iso8859_15')\n",
    "\n",
    "train_cfs_smote = pandas.read_csv('train_cfs_smote.csv', sep=',', encoding='iso8859_15')\n",
    "train_ig_smote = pandas.read_csv('train_ig_smote.csv', sep=',', encoding='iso8859_15')\n",
    "train_lasso_smote = pandas.read_csv('train_lasso_smote.csv', sep=',', encoding='iso8859_15')\n",
    "train_sample_smote = pandas.read_csv('train_sample_smote.csv', sep=',', encoding='iso8859_15')\n",
    "\n",
    "train_cfs_undersampling = pandas.read_csv('train_cfs_undersampling.csv', sep=',', encoding='iso8859_15')\n",
    "train_ig_undersampling = pandas.read_csv('train_ig_undersampling.csv', sep=',', encoding='iso8859_15')\n",
    "train_lasso_undersampling = pandas.read_csv('train_lasso_undersampling.csv', sep=',', encoding='iso8859_15')\n",
    "train_sample_undersampling = pandas.read_csv('train_sample_undersampling.csv', sep=',', encoding='iso8859_15')\n",
    "\n",
    "test_cfs = pandas.read_csv('test_cfs.csv', sep=',', encoding='iso8859_15')\n",
    "test_ig = pandas.read_csv('test_ig.csv', sep=',', encoding='iso8859_15')\n",
    "test_lasso = pandas.read_csv('test_lasso.csv', sep=',', encoding='iso8859_15')\n",
    "test_sample = pandas.read_csv('test_sample.csv', sep=',', encoding='iso8859_15')"
   ]
  },
  {
   "cell_type": "code",
   "execution_count": 3,
   "metadata": {},
   "outputs": [],
   "source": [
    "#None train\n",
    "X_cfs = train_cfs\n",
    "target_cfs = train_cfs['alvo']\n",
    "\n",
    "X_ig = train_ig\n",
    "target_ig = train_ig['alvo']\n",
    "\n",
    "X_lasso = train_lasso\n",
    "target_lasso = train_lasso['alvo']\n",
    "\n",
    "X_sample = train_sample\n",
    "target_sample = train_sample['alvo']\n",
    "\n",
    "#SMOTE train\n",
    "X_cfs_smote = train_cfs_smote\n",
    "target_cfs_smote = train_cfs_smote['alvo']\n",
    "\n",
    "X_ig_smote = train_ig_smote\n",
    "target_ig_smote = train_ig_smote['alvo']\n",
    "\n",
    "X_lasso_smote = train_lasso_smote\n",
    "target_lasso_smote = train_lasso_smote['alvo']\n",
    "\n",
    "X_sample_smote = train_sample_smote\n",
    "target_sample_smote = train_sample_smote['alvo']\n",
    "\n",
    "#Undersampling train\n",
    "X_cfs_undersampling = train_cfs_undersampling\n",
    "target_cfs_undersampling = train_cfs_undersampling['alvo']\n",
    "\n",
    "X_ig_undersampling = train_ig_undersampling\n",
    "target_ig_undersampling = train_ig_undersampling['alvo']\n",
    "\n",
    "X_lasso_undersampling = train_lasso_undersampling\n",
    "target_lasso_undersampling = train_lasso_undersampling['alvo']\n",
    "\n",
    "X_sample_undersampling = train_sample_undersampling\n",
    "target_sample_undersampling = train_sample_undersampling['alvo']\n",
    "\n",
    "#Tests\n",
    "X_test_cfs = test_cfs\n",
    "target_test_cfs = test_cfs['alvo']\n",
    "\n",
    "X_test_ig = test_ig\n",
    "target_test_ig = test_ig['alvo']\n",
    "\n",
    "X_test_lasso = test_lasso\n",
    "target_test_lasso = test_lasso['alvo']\n",
    "\n",
    "X_test_sample = test_sample\n",
    "target_test_sample = test_sample['alvo']"
   ]
  },
  {
   "cell_type": "code",
   "execution_count": 4,
   "metadata": {},
   "outputs": [],
   "source": [
    "#None train\n",
    "del X_cfs['alvo']\n",
    "del X_cfs['Unnamed: 0']\n",
    "\n",
    "del X_ig['alvo']\n",
    "del X_ig['Unnamed: 0']\n",
    "\n",
    "del X_lasso['alvo']\n",
    "del X_lasso['Unnamed: 0']\n",
    "\n",
    "del X_sample['alvo']\n",
    "del X_sample['Unnamed: 0']\n",
    "\n",
    "#SMOTE train\n",
    "del X_cfs_smote['alvo']\n",
    "del X_cfs_smote['Unnamed: 0']\n",
    "\n",
    "del X_ig_smote['alvo']\n",
    "del X_ig_smote['Unnamed: 0']\n",
    "\n",
    "del X_lasso_smote['alvo']\n",
    "del X_lasso_smote['Unnamed: 0']\n",
    "\n",
    "del X_sample_smote['alvo']\n",
    "del X_sample_smote['Unnamed: 0']\n",
    "\n",
    "#Undersampling train\n",
    "del X_cfs_undersampling['alvo']\n",
    "del X_cfs_undersampling['Unnamed: 0']\n",
    "\n",
    "del X_ig_undersampling['alvo']\n",
    "del X_ig_undersampling['Unnamed: 0']\n",
    "\n",
    "del X_lasso_undersampling['alvo']\n",
    "del X_lasso_undersampling['Unnamed: 0']\n",
    "\n",
    "del X_sample_undersampling['alvo']\n",
    "del X_sample_undersampling['Unnamed: 0']\n",
    "\n",
    "#Tests\n",
    "del X_test_cfs['alvo']\n",
    "del X_test_cfs['Unnamed: 0']\n",
    "\n",
    "del X_test_ig['alvo']\n",
    "del X_test_ig['Unnamed: 0']\n",
    "\n",
    "del X_test_lasso['alvo']\n",
    "del X_test_lasso['Unnamed: 0']\n",
    "\n",
    "del X_test_sample['alvo']\n",
    "del X_test_sample['Unnamed: 0']"
   ]
  },
  {
   "cell_type": "code",
   "execution_count": 5,
   "metadata": {},
   "outputs": [],
   "source": [
    "clf = RandomForestClassifier(n_estimators=98)"
   ]
  },
  {
   "cell_type": "code",
   "execution_count": 6,
   "metadata": {},
   "outputs": [
    {
     "name": "stdout",
     "output_type": "stream",
     "text": [
      "0.7777119347137802\n",
      "0.0831063621761296\n",
      "64.8963565826416\n"
     ]
    }
   ],
   "source": [
    "#None CFS (nenhum balancemanento e seleção de atributos CFS)\n",
    "inicio = time.time()\n",
    "clf.fit(X_cfs, target_cfs)\n",
    "fim = time.time()\n",
    "prediction = clf.predict(X_test_cfs)\n",
    "print(accuracy_score(prediction, target_test_cfs))\n",
    "print(f1_score(prediction, target_test_cfs))\n",
    "print(fim-inicio)"
   ]
  },
  {
   "cell_type": "code",
   "execution_count": 7,
   "metadata": {},
   "outputs": [
    {
     "name": "stdout",
     "output_type": "stream",
     "text": [
      "0.7651829402502413\n",
      "0.1531416010258289\n",
      "204.19059348106384\n"
     ]
    }
   ],
   "source": [
    "#None IG (nenhum balancemanento e seleção de atributos IG)\n",
    "inicio = time.time()\n",
    "clf.fit(X_ig, target_ig)\n",
    "fim = time.time()\n",
    "prediction = clf.predict(X_test_ig)\n",
    "print(accuracy_score(prediction, target_test_ig))\n",
    "print(f1_score(prediction, target_test_ig))\n",
    "print(fim-inicio)"
   ]
  },
  {
   "cell_type": "code",
   "execution_count": 8,
   "metadata": {},
   "outputs": [
    {
     "name": "stdout",
     "output_type": "stream",
     "text": [
      "0.7762389313106344\n",
      "0.0712579058327477\n",
      "95.67568778991699\n"
     ]
    }
   ],
   "source": [
    "#None LASSO (nenhum balancemanento e seleção de atributos LASSO)\n",
    "inicio = time.time()\n",
    "clf.fit(X_lasso, target_lasso)\n",
    "fim = time.time()\n",
    "prediction = clf.predict(X_test_lasso)\n",
    "print(accuracy_score(prediction, target_test_lasso))\n",
    "print(f1_score(prediction, target_test_lasso))\n",
    "print(fim-inicio)"
   ]
  },
  {
   "cell_type": "code",
   "execution_count": 9,
   "metadata": {},
   "outputs": [
    {
     "name": "stdout",
     "output_type": "stream",
     "text": [
      "0.7823341178064102\n",
      "0.06624055781522371\n",
      "378.2303817272186\n"
     ]
    }
   ],
   "source": [
    "#None Sample (nenhum balancemanento e nenhuma seleção de atributos)\n",
    "inicio = time.time()\n",
    "clf.fit(X_sample, target_sample)\n",
    "fim = time.time()\n",
    "prediction = clf.predict(X_test_sample)\n",
    "print(accuracy_score(prediction, target_test_sample))\n",
    "print(f1_score(prediction, target_test_sample))\n",
    "print(fim-inicio)"
   ]
  },
  {
   "cell_type": "code",
   "execution_count": 10,
   "metadata": {},
   "outputs": [
    {
     "name": "stdout",
     "output_type": "stream",
     "text": [
      "0.614428660921389\n",
      "0.36694187307147025\n",
      "66.55789041519165\n"
     ]
    }
   ],
   "source": [
    "#SMOTE CFS (balanceamento de dados por SMOTE e seleção de atributos CFS)\n",
    "inicio = time.time()\n",
    "clf.fit(X_cfs_smote, target_cfs_smote)\n",
    "fim = time.time()\n",
    "prediction = clf.predict(X_test_cfs)\n",
    "print(accuracy_score(prediction, target_test_cfs))\n",
    "print(f1_score(prediction, target_test_cfs))\n",
    "print(fim-inicio)"
   ]
  },
  {
   "cell_type": "code",
   "execution_count": 11,
   "metadata": {},
   "outputs": [
    {
     "name": "stdout",
     "output_type": "stream",
     "text": [
      "0.6925317034353148\n",
      "0.334457230814337\n",
      "135.2924928665161\n"
     ]
    }
   ],
   "source": [
    "#SMOTE IG (balanceamento de dados por SMOTE e seleção de atributos IG)\n",
    "inicio = time.time()\n",
    "clf.fit(X_ig_smote, target_ig_smote)\n",
    "fim = time.time()\n",
    "prediction = clf.predict(X_test_ig)\n",
    "print(accuracy_score(prediction, target_test_ig))\n",
    "print(f1_score(prediction, target_test_ig))\n",
    "print(fim-inicio)"
   ]
  },
  {
   "cell_type": "code",
   "execution_count": 12,
   "metadata": {},
   "outputs": [
    {
     "name": "stdout",
     "output_type": "stream",
     "text": [
      "0.5874235985303828\n",
      "0.3711808422791082\n",
      "60.5862922668457\n"
     ]
    }
   ],
   "source": [
    "#SMOTE LASSO (balanceamento de dados por SMOTE e seleção de atributos LASSO)\n",
    "inicio = time.time()\n",
    "clf.fit(X_lasso_smote, target_lasso_smote)\n",
    "fim = time.time()\n",
    "prediction = clf.predict(X_test_lasso)\n",
    "print(accuracy_score(prediction, target_test_lasso))\n",
    "print(f1_score(prediction, target_test_lasso))\n",
    "print(fim-inicio)"
   ]
  },
  {
   "cell_type": "code",
   "execution_count": 13,
   "metadata": {},
   "outputs": [
    {
     "name": "stdout",
     "output_type": "stream",
     "text": [
      "0.7532465333626805\n",
      "0.3051396967674263\n",
      "253.51377415657043\n"
     ]
    }
   ],
   "source": [
    "#SMOTE Sample (balanceamento de dados por SMOTE e nenhuma seleção de atributos)\n",
    "inicio = time.time()\n",
    "clf.fit(X_sample_smote, target_sample_smote)\n",
    "fim = time.time()\n",
    "prediction = clf.predict(X_test_sample)\n",
    "print(accuracy_score(prediction, target_test_sample))\n",
    "print(f1_score(prediction, target_test_sample))\n",
    "print(fim-inicio)"
   ]
  },
  {
   "cell_type": "code",
   "execution_count": 14,
   "metadata": {},
   "outputs": [
    {
     "name": "stdout",
     "output_type": "stream",
     "text": [
      "0.6139207287134077\n",
      "0.3675144925526308\n",
      "34.209407329559326\n"
     ]
    }
   ],
   "source": [
    "#Undersampling CFS (balanceamento de dados por RU e seleção de atributos CFS)\n",
    "inicio = time.time()\n",
    "clf.fit(X_cfs_undersampling, target_cfs_undersampling)\n",
    "fim = time.time()\n",
    "prediction = clf.predict(X_test_cfs)\n",
    "print(accuracy_score(prediction, target_test_cfs))\n",
    "print(f1_score(prediction, target_test_cfs))\n",
    "print(fim-inicio)"
   ]
  },
  {
   "cell_type": "code",
   "execution_count": 15,
   "metadata": {},
   "outputs": [
    {
     "name": "stdout",
     "output_type": "stream",
     "text": [
      "0.5859675262008364\n",
      "0.3812246963562753\n",
      "81.22846937179565\n"
     ]
    }
   ],
   "source": [
    "#Undersampling IG (balanceamento de dados por RU e seleção de atributos IG)\n",
    "inicio = time.time()\n",
    "clf.fit(X_ig_undersampling, target_ig_undersampling)\n",
    "fim = time.time()\n",
    "prediction = clf.predict(X_test_ig)\n",
    "print(accuracy_score(prediction, target_test_ig))\n",
    "print(f1_score(prediction, target_test_ig))\n",
    "print(fim-inicio)"
   ]
  },
  {
   "cell_type": "code",
   "execution_count": 16,
   "metadata": {},
   "outputs": [
    {
     "name": "stdout",
     "output_type": "stream",
     "text": [
      "0.5880839104007585\n",
      "0.37194413609727134\n",
      "32.04563927650452\n"
     ]
    }
   ],
   "source": [
    "#Undersampling LASSO (balanceamento de dados por RU e seleção de atributos LASSO)\n",
    "inicio = time.time()\n",
    "clf.fit(X_lasso_undersampling, target_lasso_undersampling)\n",
    "fim = time.time()\n",
    "prediction = clf.predict(X_test_lasso)\n",
    "print(accuracy_score(prediction, target_test_lasso))\n",
    "print(f1_score(prediction, target_test_lasso))\n",
    "print(fim-inicio)"
   ]
  },
  {
   "cell_type": "code",
   "execution_count": 17,
   "metadata": {},
   "outputs": [],
   "source": [
    "del X_test_sample['wdirection_arrSSO']"
   ]
  },
  {
   "cell_type": "code",
   "execution_count": 18,
   "metadata": {},
   "outputs": [
    {
     "name": "stdout",
     "output_type": "stream",
     "text": [
      "0.619457189780404\n",
      "0.4076846044378854\n",
      "145.35773134231567\n"
     ]
    }
   ],
   "source": [
    "#Undersampling Sample (balanceamento de dados por RU e nenhuma seleção de atributos)\n",
    "inicio = time.time()\n",
    "clf.fit(X_sample_undersampling, target_sample_undersampling)\n",
    "fim = time.time()\n",
    "prediction = clf.predict(X_test_sample)\n",
    "print(accuracy_score(prediction, target_test_sample))\n",
    "print(f1_score(prediction, target_test_sample))\n",
    "print(fim-inicio)"
   ]
  },
  {
   "cell_type": "code",
   "execution_count": null,
   "metadata": {},
   "outputs": [],
   "source": []
  }
 ],
 "metadata": {
  "kernelspec": {
   "display_name": "Python 3",
   "language": "python",
   "name": "python3"
  },
  "language_info": {
   "codemirror_mode": {
    "name": "ipython",
    "version": 3
   },
   "file_extension": ".py",
   "mimetype": "text/x-python",
   "name": "python",
   "nbconvert_exporter": "python",
   "pygments_lexer": "ipython3",
   "version": "3.7.4"
  }
 },
 "nbformat": 4,
 "nbformat_minor": 2
}
