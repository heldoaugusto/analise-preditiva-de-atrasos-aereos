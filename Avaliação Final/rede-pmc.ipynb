{
 "cells": [
  {
   "cell_type": "code",
   "execution_count": 1,
   "metadata": {},
   "outputs": [],
   "source": [
    "import pandas\n",
    "import numpy as np\n",
    "from sklearn.neural_network import MLPClassifier\n",
    "from sklearn.model_selection import train_test_split\n",
    "from sklearn.metrics import accuracy_score\n",
    "from sklearn.metrics import f1_score\n",
    "import matplotlib.pyplot as plt\n",
    "from sklearn.model_selection import cross_val_score\n",
    "import time"
   ]
  },
  {
   "cell_type": "code",
   "execution_count": 2,
   "metadata": {},
   "outputs": [],
   "source": [
    "train_cfs = pandas.read_csv('train_cfs.csv', sep=',', encoding='iso8859_15')\n",
    "train_ig = pandas.read_csv('train_ig.csv', sep=',', encoding='iso8859_15')\n",
    "train_lasso = pandas.read_csv('train_lasso.csv', sep=',', encoding='iso8859_15')\n",
    "train_sample = pandas.read_csv('train_sample.csv', sep=',', encoding='iso8859_15')\n",
    "\n",
    "train_cfs_smote = pandas.read_csv('train_cfs_smote.csv', sep=',', encoding='iso8859_15')\n",
    "train_ig_smote = pandas.read_csv('train_ig_smote.csv', sep=',', encoding='iso8859_15')\n",
    "train_lasso_smote = pandas.read_csv('train_lasso_smote.csv', sep=',', encoding='iso8859_15')\n",
    "train_sample_smote = pandas.read_csv('train_sample_smote.csv', sep=',', encoding='iso8859_15')\n",
    "\n",
    "train_cfs_undersampling = pandas.read_csv('train_cfs_undersampling.csv', sep=',', encoding='iso8859_15')\n",
    "train_ig_undersampling = pandas.read_csv('train_ig_undersampling.csv', sep=',', encoding='iso8859_15')\n",
    "train_lasso_undersampling = pandas.read_csv('train_lasso_undersampling.csv', sep=',', encoding='iso8859_15')\n",
    "train_sample_undersampling = pandas.read_csv('train_sample_undersampling.csv', sep=',', encoding='iso8859_15')\n",
    "\n",
    "test_cfs = pandas.read_csv('test_cfs.csv', sep=',', encoding='iso8859_15')\n",
    "test_ig = pandas.read_csv('test_ig.csv', sep=',', encoding='iso8859_15')\n",
    "test_lasso = pandas.read_csv('test_lasso.csv', sep=',', encoding='iso8859_15')\n",
    "test_sample = pandas.read_csv('test_sample.csv', sep=',', encoding='iso8859_15')"
   ]
  },
  {
   "cell_type": "code",
   "execution_count": 3,
   "metadata": {},
   "outputs": [],
   "source": [
    "#None train\n",
    "X_cfs = train_cfs\n",
    "target_cfs = train_cfs['alvo']\n",
    "\n",
    "X_ig = train_ig\n",
    "target_ig = train_ig['alvo']\n",
    "\n",
    "X_lasso = train_lasso\n",
    "target_lasso = train_lasso['alvo']\n",
    "\n",
    "X_sample = train_sample\n",
    "target_sample = train_sample['alvo']\n",
    "\n",
    "#SMOTE train\n",
    "X_cfs_smote = train_cfs_smote\n",
    "target_cfs_smote = train_cfs_smote['alvo']\n",
    "\n",
    "X_ig_smote = train_ig_smote\n",
    "target_ig_smote = train_ig_smote['alvo']\n",
    "\n",
    "X_lasso_smote = train_lasso_smote\n",
    "target_lasso_smote = train_lasso_smote['alvo']\n",
    "\n",
    "X_sample_smote = train_sample_smote\n",
    "target_sample_smote = train_sample_smote['alvo']\n",
    "\n",
    "#Undersampling train\n",
    "X_cfs_undersampling = train_cfs_undersampling\n",
    "target_cfs_undersampling = train_cfs_undersampling['alvo']\n",
    "\n",
    "X_ig_undersampling = train_ig_undersampling\n",
    "target_ig_undersampling = train_ig_undersampling['alvo']\n",
    "\n",
    "X_lasso_undersampling = train_lasso_undersampling\n",
    "target_lasso_undersampling = train_lasso_undersampling['alvo']\n",
    "\n",
    "X_sample_undersampling = train_sample_undersampling\n",
    "target_sample_undersampling = train_sample_undersampling['alvo']\n",
    "\n",
    "#Tests\n",
    "X_test_cfs = test_cfs\n",
    "target_test_cfs = test_cfs['alvo']\n",
    "\n",
    "X_test_ig = test_ig\n",
    "target_test_ig = test_ig['alvo']\n",
    "\n",
    "X_test_lasso = test_lasso\n",
    "target_test_lasso = test_lasso['alvo']\n",
    "\n",
    "X_test_sample = test_sample\n",
    "target_test_sample = test_sample['alvo']"
   ]
  },
  {
   "cell_type": "code",
   "execution_count": 4,
   "metadata": {},
   "outputs": [],
   "source": [
    "#None train\n",
    "del X_cfs['alvo']\n",
    "del X_cfs['Unnamed: 0']\n",
    "\n",
    "del X_ig['alvo']\n",
    "del X_ig['Unnamed: 0']\n",
    "\n",
    "del X_lasso['alvo']\n",
    "del X_lasso['Unnamed: 0']\n",
    "\n",
    "del X_sample['alvo']\n",
    "del X_sample['Unnamed: 0']\n",
    "\n",
    "#SMOTE train\n",
    "del X_cfs_smote['alvo']\n",
    "del X_cfs_smote['Unnamed: 0']\n",
    "\n",
    "del X_ig_smote['alvo']\n",
    "del X_ig_smote['Unnamed: 0']\n",
    "\n",
    "del X_lasso_smote['alvo']\n",
    "del X_lasso_smote['Unnamed: 0']\n",
    "\n",
    "del X_sample_smote['alvo']\n",
    "del X_sample_smote['Unnamed: 0']\n",
    "\n",
    "#Undersampling train\n",
    "del X_cfs_undersampling['alvo']\n",
    "del X_cfs_undersampling['Unnamed: 0']\n",
    "\n",
    "del X_ig_undersampling['alvo']\n",
    "del X_ig_undersampling['Unnamed: 0']\n",
    "\n",
    "del X_lasso_undersampling['alvo']\n",
    "del X_lasso_undersampling['Unnamed: 0']\n",
    "\n",
    "del X_sample_undersampling['alvo']\n",
    "del X_sample_undersampling['Unnamed: 0']\n",
    "\n",
    "#Tests\n",
    "del X_test_cfs['alvo']\n",
    "del X_test_cfs['Unnamed: 0']\n",
    "\n",
    "del X_test_ig['alvo']\n",
    "del X_test_ig['Unnamed: 0']\n",
    "\n",
    "del X_test_lasso['alvo']\n",
    "del X_test_lasso['Unnamed: 0']\n",
    "\n",
    "del X_test_sample['alvo']\n",
    "del X_test_sample['Unnamed: 0']"
   ]
  },
  {
   "cell_type": "code",
   "execution_count": 5,
   "metadata": {},
   "outputs": [],
   "source": [
    "clf = MLPClassifier(hidden_layer_sizes=(91, ), max_iter=400)"
   ]
  },
  {
   "cell_type": "code",
   "execution_count": 6,
   "metadata": {},
   "outputs": [
    {
     "name": "stdout",
     "output_type": "stream",
     "text": [
      "0.7805055618576774\n",
      "0.030511516601854624\n",
      "81.5360460281372\n"
     ]
    }
   ],
   "source": [
    "#None CFS (nenhum balancemanento e seleção de atributos CFS)\n",
    "inicio = time.time()\n",
    "clf.fit(X_cfs, target_cfs)\n",
    "fim = time.time()\n",
    "prediction = clf.predict(X_test_cfs)\n",
    "print(accuracy_score(prediction, target_test_cfs))\n",
    "print(f1_score(prediction, target_test_cfs))\n",
    "print(fim-inicio)"
   ]
  },
  {
   "cell_type": "code",
   "execution_count": 7,
   "metadata": {},
   "outputs": [
    {
     "name": "stdout",
     "output_type": "stream",
     "text": [
      "0.7787277991297428\n",
      "0.11904280417930567\n",
      "615.3014776706696\n"
     ]
    }
   ],
   "source": [
    "#None IG (nenhum balancemanento e seleção de atributos IG)\n",
    "inicio = time.time()\n",
    "clf.fit(X_ig, target_ig)\n",
    "fim = time.time()\n",
    "prediction = clf.predict(X_test_ig)\n",
    "print(accuracy_score(prediction, target_test_ig))\n",
    "print(f1_score(prediction, target_test_ig))\n",
    "print(fim-inicio)"
   ]
  },
  {
   "cell_type": "code",
   "execution_count": 8,
   "metadata": {},
   "outputs": [
    {
     "name": "stdout",
     "output_type": "stream",
     "text": [
      "0.7808780454768637\n",
      "0.03805559684852089\n",
      "235.08160734176636\n"
     ]
    }
   ],
   "source": [
    "#None LASSO (nenhum balancemanento e seleção de atributos LASSO)\n",
    "inicio = time.time()\n",
    "clf.fit(X_lasso, target_lasso)\n",
    "fim = time.time()\n",
    "prediction = clf.predict(X_test_lasso)\n",
    "print(accuracy_score(prediction, target_test_lasso))\n",
    "print(f1_score(prediction, target_test_lasso))\n",
    "print(fim-inicio)"
   ]
  },
  {
   "cell_type": "code",
   "execution_count": 9,
   "metadata": {},
   "outputs": [
    {
     "name": "stdout",
     "output_type": "stream",
     "text": [
      "0.7712104024516194\n",
      "0.19387937719978524\n",
      "1163.7863240242004\n"
     ]
    }
   ],
   "source": [
    "#None Sample (nenhum balancemanento e nenhuma seleção de atributos)\n",
    "inicio = time.time()\n",
    "clf.fit(X_sample, target_sample)\n",
    "fim = time.time()\n",
    "prediction = clf.predict(X_test_sample)\n",
    "print(accuracy_score(prediction, target_test_sample))\n",
    "print(f1_score(prediction, target_test_sample))\n",
    "print(fim-inicio)"
   ]
  },
  {
   "cell_type": "code",
   "execution_count": 10,
   "metadata": {},
   "outputs": [
    {
     "name": "stdout",
     "output_type": "stream",
     "text": [
      "0.6164773208269136\n",
      "0.38048353571819277\n",
      "73.97761631011963\n"
     ]
    }
   ],
   "source": [
    "#SMOTE CFS (balanceamento de dados por SMOTE e seleção de atributos CFS)\n",
    "inicio = time.time()\n",
    "clf.fit(X_cfs_smote, target_cfs_smote)\n",
    "fim = time.time()\n",
    "prediction = clf.predict(X_test_cfs)\n",
    "print(accuracy_score(prediction, target_test_cfs))\n",
    "print(f1_score(prediction, target_test_cfs))\n",
    "print(fim-inicio)"
   ]
  },
  {
   "cell_type": "code",
   "execution_count": 11,
   "metadata": {},
   "outputs": [
    {
     "name": "stdout",
     "output_type": "stream",
     "text": [
      "0.6287862113336606\n",
      "0.3709293317648409\n",
      "387.3451089859009\n"
     ]
    }
   ],
   "source": [
    "#SMOTE IG (balanceamento de dados por SMOTE e seleção de atributos IG)\n",
    "inicio = time.time()\n",
    "clf.fit(X_ig_smote, target_ig_smote)\n",
    "fim = time.time()\n",
    "prediction = clf.predict(X_test_ig)\n",
    "print(accuracy_score(prediction, target_test_ig))\n",
    "print(f1_score(prediction, target_test_ig))\n",
    "print(fim-inicio)"
   ]
  },
  {
   "cell_type": "code",
   "execution_count": 12,
   "metadata": {},
   "outputs": [
    {
     "name": "stdout",
     "output_type": "stream",
     "text": [
      "0.5986489003267698\n",
      "0.3790113430959055\n",
      "144.61815786361694\n"
     ]
    }
   ],
   "source": [
    "#SMOTE LASSO (balanceamento de dados por SMOTE e seleção de atributos LASSO)\n",
    "inicio = time.time()\n",
    "clf.fit(X_lasso_smote, target_lasso_smote)\n",
    "fim = time.time()\n",
    "prediction = clf.predict(X_test_lasso)\n",
    "print(accuracy_score(prediction, target_test_lasso))\n",
    "print(f1_score(prediction, target_test_lasso))\n",
    "print(fim-inicio)"
   ]
  },
  {
   "cell_type": "code",
   "execution_count": 13,
   "metadata": {},
   "outputs": [
    {
     "name": "stdout",
     "output_type": "stream",
     "text": [
      "0.6544367878367168\n",
      "0.360027593126803\n",
      "1331.456268787384\n"
     ]
    }
   ],
   "source": [
    "#SMOTE Sample (balanceamento de dados por SMOTE e nenhuma seleção de atributos)\n",
    "inicio = time.time()\n",
    "clf.fit(X_sample_smote, target_sample_smote)\n",
    "fim = time.time()\n",
    "prediction = clf.predict(X_test_sample)\n",
    "print(accuracy_score(prediction, target_test_sample))\n",
    "print(f1_score(prediction, target_test_sample))\n",
    "print(fim-inicio)"
   ]
  },
  {
   "cell_type": "code",
   "execution_count": 14,
   "metadata": {},
   "outputs": [
    {
     "name": "stdout",
     "output_type": "stream",
     "text": [
      "0.5904034674838732\n",
      "0.3828886281312178\n",
      "94.99658346176147\n"
     ]
    }
   ],
   "source": [
    "#Undersampling CFS (balanceamento de dados por RU e seleção de atributos CFS)\n",
    "inicio = time.time()\n",
    "clf.fit(X_cfs_undersampling, target_cfs_undersampling)\n",
    "fim = time.time()\n",
    "prediction = clf.predict(X_test_cfs)\n",
    "print(accuracy_score(prediction, target_test_cfs))\n",
    "print(f1_score(prediction, target_test_cfs))\n",
    "print(fim-inicio)"
   ]
  },
  {
   "cell_type": "code",
   "execution_count": 15,
   "metadata": {},
   "outputs": [
    {
     "name": "stdout",
     "output_type": "stream",
     "text": [
      "0.5757242266732133\n",
      "0.3885215099680339\n",
      "182.67835426330566\n"
     ]
    }
   ],
   "source": [
    "#Undersampling IG (balanceamento de dados por RU e seleção de atributos IG)\n",
    "inicio = time.time()\n",
    "clf.fit(X_ig_undersampling, target_ig_undersampling)\n",
    "fim = time.time()\n",
    "prediction = clf.predict(X_test_ig)\n",
    "print(accuracy_score(prediction, target_test_ig))\n",
    "print(f1_score(prediction, target_test_ig))\n",
    "print(fim-inicio)"
   ]
  },
  {
   "cell_type": "code",
   "execution_count": 16,
   "metadata": {},
   "outputs": [
    {
     "name": "stdout",
     "output_type": "stream",
     "text": [
      "0.6026954269170208\n",
      "0.38081165232993824\n",
      "124.29079914093018\n"
     ]
    }
   ],
   "source": [
    "#Undersampling LASSO (balanceamento de dados por RU e seleção de atributos LASSO)\n",
    "inicio = time.time()\n",
    "clf.fit(X_lasso_undersampling, target_lasso_undersampling)\n",
    "fim = time.time()\n",
    "prediction = clf.predict(X_test_lasso)\n",
    "print(accuracy_score(prediction, target_test_lasso))\n",
    "print(f1_score(prediction, target_test_lasso))\n",
    "print(fim-inicio)"
   ]
  },
  {
   "cell_type": "code",
   "execution_count": 17,
   "metadata": {},
   "outputs": [],
   "source": [
    "del X_test_sample['wdirection_arrSSO']"
   ]
  },
  {
   "cell_type": "code",
   "execution_count": 18,
   "metadata": {},
   "outputs": [
    {
     "name": "stdout",
     "output_type": "stream",
     "text": [
      "0.5775358515483466\n",
      "0.3862048607694578\n",
      "554.4973533153534\n"
     ]
    }
   ],
   "source": [
    "#Undersampling Sample (balanceamento de dados por RU e nenhuma seleção de atributos)\n",
    "inicio = time.time()\n",
    "clf.fit(X_sample_undersampling, target_sample_undersampling)\n",
    "fim = time.time()\n",
    "prediction = clf.predict(X_test_sample)\n",
    "print(accuracy_score(prediction, target_test_sample))\n",
    "print(f1_score(prediction, target_test_lasso))\n",
    "print(fim-inicio)"
   ]
  },
  {
   "cell_type": "code",
   "execution_count": null,
   "metadata": {},
   "outputs": [],
   "source": []
  }
 ],
 "metadata": {
  "kernelspec": {
   "display_name": "Python 3",
   "language": "python",
   "name": "python3"
  },
  "language_info": {
   "codemirror_mode": {
    "name": "ipython",
    "version": 3
   },
   "file_extension": ".py",
   "mimetype": "text/x-python",
   "name": "python",
   "nbconvert_exporter": "python",
   "pygments_lexer": "ipython3",
   "version": "3.7.4"
  }
 },
 "nbformat": 4,
 "nbformat_minor": 2
}
