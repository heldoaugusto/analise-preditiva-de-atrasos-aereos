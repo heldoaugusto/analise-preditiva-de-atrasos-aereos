{
 "cells": [
  {
   "cell_type": "code",
   "execution_count": 1,
   "metadata": {},
   "outputs": [],
   "source": [
    "import pandas\n",
    "import numpy as np\n",
    "import matplotlib.pyplot as plt\n",
    "\n",
    "from sklearn.ensemble import RandomForestClassifier\n",
    "from sklearn.neural_network import MLPClassifier\n",
    "from sklearn.neighbors import KNeighborsClassifier\n",
    "\n",
    "from sklearn.model_selection import cross_val_score\n",
    "from sklearn.model_selection import train_test_split\n",
    "from sklearn.metrics import accuracy_score\n",
    "\n",
    "import time"
   ]
  },
  {
   "cell_type": "code",
   "execution_count": 2,
   "metadata": {},
   "outputs": [],
   "source": [
    "train_sample = pandas.read_csv('train_sample.csv', sep=',', encoding='iso8859_15')\n",
    "test_sample = pandas.read_csv('test_sample.csv', sep=',', encoding='iso8859_15')"
   ]
  },
  {
   "cell_type": "code",
   "execution_count": 3,
   "metadata": {},
   "outputs": [],
   "source": [
    "#Separar alvos do conjunto de treinamento e teste\n",
    "X_sample = train_sample\n",
    "target_sample = train_sample['alvo']\n",
    "\n",
    "X_test_sample = test_sample\n",
    "target_test_sample = test_sample['alvo']"
   ]
  },
  {
   "cell_type": "code",
   "execution_count": 4,
   "metadata": {},
   "outputs": [],
   "source": [
    "#Remover alvos do conjunto de treinamento e teste\n",
    "del X_sample['alvo']\n",
    "del X_sample['Unnamed: 0']\n",
    "\n",
    "del X_test_sample['alvo']\n",
    "del X_test_sample['Unnamed: 0']"
   ]
  },
  {
   "cell_type": "code",
   "execution_count": null,
   "metadata": {},
   "outputs": [],
   "source": [
    "# Busca pelo melhor número de neurônios nas camadas ocultas da rede PMC\n",
    "k_range = list(range(85, 95))\n",
    "k_scores = []\n",
    "for k in k_range:\n",
    "    mlp = MLPClassifier(hidden_layer_sizes=(k, ))\n",
    "    scores = cross_val_score(mlp, X_test_sample, target_test_sample, cv=5, scoring='accuracy')\n",
    "    k_scores.append(scores.mean())\n",
    "print(k_scores)"
   ]
  },
  {
   "cell_type": "code",
   "execution_count": null,
   "metadata": {},
   "outputs": [],
   "source": [
    "# Gráfico\n",
    "plt.plot(k_range, k_scores)\n",
    "plt.xlabel('valor de hidden_layer_sizes para Redes Neurais')\n",
    "plt.ylabel('Acurácia Validação Cruzada')"
   ]
  },
  {
   "cell_type": "code",
   "execution_count": null,
   "metadata": {},
   "outputs": [],
   "source": [
    "# Segunda busca pelo melhor número de neurônios nas camadas ocultas da rede PMC\n",
    "k_range = list(range(85, 105))\n",
    "k_scores = []\n",
    "for k in k_range:\n",
    "    mlp = MLPClassifier(hidden_layer_sizes=(k, ))\n",
    "    scores = cross_val_score(mlp, X_test_sample, target_test_sample, cv=5, scoring='accuracy')\n",
    "    k_scores.append(scores.mean())\n",
    "print(k_scores)"
   ]
  },
  {
   "cell_type": "code",
   "execution_count": null,
   "metadata": {},
   "outputs": [],
   "source": [
    "# Gráfico da segunda busca\n",
    "plt.plot(k_range, k_scores)\n",
    "plt.xlabel('valor de hidden_layer_sizes para Redes Neurais')\n",
    "plt.ylabel('Acurácia Validação Cruzada')"
   ]
  }
 ],
 "metadata": {
  "kernelspec": {
   "display_name": "Python 3",
   "language": "python",
   "name": "python3"
  },
  "language_info": {
   "codemirror_mode": {
    "name": "ipython",
    "version": 3
   },
   "file_extension": ".py",
   "mimetype": "text/x-python",
   "name": "python",
   "nbconvert_exporter": "python",
   "pygments_lexer": "ipython3",
   "version": "3.7.4"
  }
 },
 "nbformat": 4,
 "nbformat_minor": 2
}
